{
 "cells": [
  {
   "cell_type": "markdown",
   "metadata": {},
   "source": [
    "This workbook reproduces the results of Tables 4 and 5 of the paper:\n",
    "\n",
    "<b> Y. Choi, Y. Chiu, D. Sontag. <a href=\"http://cs.nyu.edu/~dsontag/papers/ChoiChiuSontag_AMIA_CRI16.pdf\">Learning Low-Dimensional Representations of Medical Concepts</a>. To appear in Proceedings of the AMIA Summit on Clinical Research Informatics (CRI), 2016.</b>\n",
    "\n",
    "Note that the numbers will be slightly different because the embeddings evaluated here are a subset of the original embeddings, so the intersection of the concepts is slightly larger."
   ]
  },
  {
   "cell_type": "code",
   "execution_count": 1,
   "metadata": {
    "collapsed": false
   },
   "outputs": [],
   "source": [
    "# do from the raw process to the result\n",
    "# fully documenting the result\n",
    "\n",
    "from ndfrt_analysis import *\n",
    "from codes_analysis import *"
   ]
  },
  {
   "cell_type": "code",
   "execution_count": 2,
   "metadata": {
    "collapsed": false
   },
   "outputs": [],
   "source": [
    "filenames_file = 'files_to_process.txt'\n",
    "num_of_nn = 40\n",
    "num_of_cores = 4\n",
    "filenames = []\n",
    "with open(filenames_file, 'r') as infile:\n",
    "    data = infile.readlines()\n",
    "    for row in data:\n",
    "        filenames.append(row.strip())"
   ]
  },
  {
   "cell_type": "code",
   "execution_count": 3,
   "metadata": {
    "collapsed": false
   },
   "outputs": [
    {
     "name": "stdout",
     "output_type": "stream",
     "text": [
      "2110\n",
      "436/1480 concepts are found in embeddings\n",
      "DeVine_etal_200.txt &  12.16, & 31.34 & 53.21  \\\\\n",
      "claims_cuis_hs_300.txt &  19.04, & 36.62 & 59.40  \\\\\n",
      "stanford_cuis_svd_300.txt &  51.83, & 34.89 & 52.75  \\\\\n"
     ]
    }
   ],
   "source": [
    "# experiment for table 4 (left column; rows 1, 3, 6)\n",
    "concept_file = 'may_treat_cui.txt'\n",
    "analyze_semantic_files(filenames, num_of_nn, concept_file, num_of_cores)"
   ]
  },
  {
   "cell_type": "code",
   "execution_count": 4,
   "metadata": {
    "collapsed": false
   },
   "outputs": [
    {
     "name": "stdout",
     "output_type": "stream",
     "text": [
      "2110\n",
      "70/489 concepts are found in embeddings\n",
      "DeVine_etal_200.txt &  18.57, & 34.47 & 57.14  \\\\\n",
      "claims_cuis_hs_300.txt &  8.57, & 28.02 & 55.71  \\\\\n",
      "stanford_cuis_svd_300.txt &  38.57, & 30.95 & 48.57  \\\\\n"
     ]
    }
   ],
   "source": [
    "# experiment for table 4 (right column; rows 1, 3, 6)\n",
    "concept_file = 'may_prevent_cui.txt'\n",
    "analyze_semantic_files(filenames, num_of_nn, concept_file, num_of_cores)"
   ]
  },
  {
   "cell_type": "code",
   "execution_count": 5,
   "metadata": {
    "collapsed": false
   },
   "outputs": [
    {
     "name": "stdout",
     "output_type": "stream",
     "text": [
      "[['../DeVine_etal_200.txt', 'cui'], ['../claims_codes_hs_300.txt', 'codes'], ['../stanford_cuis_svd_300.txt', 'cui']]\n"
     ]
    }
   ],
   "source": [
    "filenames_file = 'orig_files_all.txt'\n",
    "filenames = []\n",
    "with open(filenames_file, 'r') as infile:\n",
    "    data= infile.readlines()\n",
    "    for row in data:\n",
    "        filenames.append(row.strip().split(','))\n",
    "print filenames"
   ]
  },
  {
   "cell_type": "code",
   "execution_count": 6,
   "metadata": {
    "collapsed": false
   },
   "outputs": [
    {
     "name": "stdout",
     "output_type": "stream",
     "text": [
      "1537\n",
      "1482\n",
      "1482\n",
      "1537\n",
      "1442\n",
      "1442\n",
      "DeVine_etal_200.txt & 22.63 & 24.56 \\\\\n",
      "claims_codes_hs_300.txt & 44.80 & 47.43 \\\\\n",
      "stanford_cuis_svd_300.txt & 34.16 & 37.31 \\\\\n"
     ]
    }
   ],
   "source": [
    "# experiment for table 5 (rows 1, 3, 6)\n",
    "filename_to_print, finegrain_ndcgs = get_css_analysis(filenames, num_of_nn, 'f')\n",
    "filename_to_print, coarsegrain_ndcgs = get_css_analysis(filenames, num_of_nn, 'c')\n",
    "for name, finegrain, coarsegrain in zip(filename_to_print, finegrain_ndcgs, coarsegrain_ndcgs):\n",
    "    print '%s & %.2f & %.2f \\\\\\\\' %(name.split('/')[-1], finegrain*100, coarsegrain*100) "
   ]
  }
 ],
 "metadata": {
  "kernelspec": {
   "display_name": "Python 2",
   "language": "python",
   "name": "python2"
  },
  "language_info": {
   "codemirror_mode": {
    "name": "ipython",
    "version": 2
   },
   "file_extension": ".py",
   "mimetype": "text/x-python",
   "name": "python",
   "nbconvert_exporter": "python",
   "pygments_lexer": "ipython2",
   "version": "2.7.5"
  }
 },
 "nbformat": 4,
 "nbformat_minor": 0
}
