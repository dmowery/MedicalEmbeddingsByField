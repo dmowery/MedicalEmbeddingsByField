{
 "cells": [
  {
   "cell_type": "markdown",
   "metadata": {},
   "source": [
    "This workbook reproduces the results of Tables 4 and 5 of the paper:\n",
    "\n",
    "<b> Y. Choi, Y. Chiu, D. Sontag. <a href=\"http://cs.nyu.edu/~dsontag/papers/ChoiChiuSontag_AMIA_CRI16.pdf\">Learning Low-Dimensional Representations of Medical Concepts</a>. To appear in Proceedings of the AMIA Summit on Clinical Research Informatics (CRI), 2016.</b>\n",
    "\n",
    "Note that the numbers will be slightly different because the embeddings evaluated here are a subset of the original embeddings, so the intersection of the concepts is slightly larger."
   ]
  },
  {
   "cell_type": "code",
   "execution_count": 1,
   "metadata": {},
   "outputs": [],
   "source": [
    "# do from the raw process to the result\n",
    "# fully documenting the result\n",
    "\n",
    "from ndfrt_analysis import *\n",
    "from codes_analysis import *"
   ]
  },
  {
   "cell_type": "code",
   "execution_count": 2,
   "metadata": {},
   "outputs": [],
   "source": [
    "filenames_file = 'files_to_process.txt'\n",
    "num_of_nn = 40\n",
    "num_of_cores = 8\n",
    "filenames = []\n",
    "with open(filenames_file, 'r') as infile:\n",
    "    data = infile.readlines()\n",
    "    for row in data:\n",
    "        filenames.append(row.strip())"
   ]
  },
  {
   "cell_type": "code",
   "execution_count": 3,
   "metadata": {},
   "outputs": [
    {
     "name": "stdout",
     "output_type": "stream",
     "text": [
      "2110\n"
     ]
    },
    {
     "ename": "IOError",
     "evalue": "[Errno 2] No such file or directory: 'drug_disease_..\\\\data\\\\may_treat_cui.txt'",
     "output_type": "error",
     "traceback": [
      "\u001b[1;31m---------------------------------------------------------------------------\u001b[0m",
      "\u001b[1;31mIOError\u001b[0m                                   Traceback (most recent call last)",
      "\u001b[1;32m<ipython-input-3-32ef72f228b4>\u001b[0m in \u001b[0;36m<module>\u001b[1;34m()\u001b[0m\n\u001b[0;32m      1\u001b[0m \u001b[1;31m# experiment for table 4 (left column; rows 1, 3, 6)\u001b[0m\u001b[1;33m\u001b[0m\u001b[1;33m\u001b[0m\u001b[0m\n\u001b[0;32m      2\u001b[0m \u001b[0mconcept_file\u001b[0m \u001b[1;33m=\u001b[0m \u001b[0mstr\u001b[0m\u001b[1;33m(\u001b[0m\u001b[0mdata_folder\u001b[0m \u001b[1;33m/\u001b[0m \u001b[1;34m'may_treat_cui.txt'\u001b[0m\u001b[1;33m)\u001b[0m\u001b[1;33m\u001b[0m\u001b[0m\n\u001b[1;32m----> 3\u001b[1;33m \u001b[0manalyze_semantic_files\u001b[0m\u001b[1;33m(\u001b[0m\u001b[0mfilenames\u001b[0m\u001b[1;33m,\u001b[0m \u001b[0mnum_of_nn\u001b[0m\u001b[1;33m,\u001b[0m \u001b[0mconcept_file\u001b[0m\u001b[1;33m,\u001b[0m \u001b[0mnum_of_cores\u001b[0m\u001b[1;33m)\u001b[0m\u001b[1;33m\u001b[0m\u001b[0m\n\u001b[0m",
      "\u001b[1;32mC:\\Users\\jjnun\\Documents\\Dropbox\\Research\\2_PsychiatryEmbeddings\\git\\eval\\ndfrt_analysis.pyc\u001b[0m in \u001b[0;36manalyze_semantic_files\u001b[1;34m(filenames, num_of_nn, concept_file, num_of_cores)\u001b[0m\n\u001b[0;32m    359\u001b[0m     \u001b[0mfilename_to_embedding_matrices\u001b[0m\u001b[1;33m,\u001b[0m \u001b[0midx_to_cui\u001b[0m\u001b[1;33m,\u001b[0m \u001b[0mcui_to_idx\u001b[0m \u001b[1;33m=\u001b[0m \u001b[0mgenerate_overlapping_sets\u001b[0m\u001b[1;33m(\u001b[0m\u001b[0mfilenames\u001b[0m\u001b[1;33m)\u001b[0m\u001b[1;33m\u001b[0m\u001b[0m\n\u001b[0;32m    360\u001b[0m     \u001b[1;32mprint\u001b[0m \u001b[0mlen\u001b[0m\u001b[1;33m(\u001b[0m\u001b[0midx_to_cui\u001b[0m\u001b[1;33m)\u001b[0m\u001b[1;33m\u001b[0m\u001b[0m\n\u001b[1;32m--> 361\u001b[1;33m     \u001b[0mquery_to_targets\u001b[0m \u001b[1;33m=\u001b[0m \u001b[0mget_drug_diseases_to_check\u001b[0m\u001b[1;33m(\u001b[0m\u001b[0mconcept_file\u001b[0m\u001b[1;33m,\u001b[0m \u001b[0mcui_to_idx\u001b[0m\u001b[1;33m)\u001b[0m\u001b[1;33m\u001b[0m\u001b[0m\n\u001b[0m\u001b[0;32m    362\u001b[0m     \u001b[0mall_queries\u001b[0m \u001b[1;33m=\u001b[0m \u001b[0mquery_to_targets\u001b[0m\u001b[1;33m.\u001b[0m\u001b[0mkeys\u001b[0m\u001b[1;33m(\u001b[0m\u001b[1;33m)\u001b[0m\u001b[1;33m\u001b[0m\u001b[0m\n\u001b[0;32m    363\u001b[0m \u001b[1;33m\u001b[0m\u001b[0m\n",
      "\u001b[1;32mC:\\Users\\jjnun\\Documents\\Dropbox\\Research\\2_PsychiatryEmbeddings\\git\\eval\\ndfrt_analysis.pyc\u001b[0m in \u001b[0;36mget_drug_diseases_to_check\u001b[1;34m(concept_filename, cui_to_idx)\u001b[0m\n\u001b[0;32m    229\u001b[0m \u001b[1;32mdef\u001b[0m \u001b[0mget_drug_diseases_to_check\u001b[0m\u001b[1;33m(\u001b[0m\u001b[0mconcept_filename\u001b[0m\u001b[1;33m,\u001b[0m \u001b[0mcui_to_idx\u001b[0m\u001b[1;33m)\u001b[0m\u001b[1;33m:\u001b[0m\u001b[1;33m\u001b[0m\u001b[0m\n\u001b[0;32m    230\u001b[0m     \u001b[0mquery_to_targets\u001b[0m \u001b[1;33m=\u001b[0m \u001b[1;33m{\u001b[0m\u001b[1;33m}\u001b[0m\u001b[1;33m\u001b[0m\u001b[0m\n\u001b[1;32m--> 231\u001b[1;33m     \u001b[0moutfile\u001b[0m \u001b[1;33m=\u001b[0m \u001b[0mopen\u001b[0m\u001b[1;33m(\u001b[0m\u001b[1;34m'drug_disease_'\u001b[0m \u001b[1;33m+\u001b[0m \u001b[0mconcept_filename\u001b[0m\u001b[1;33m.\u001b[0m\u001b[0msplit\u001b[0m\u001b[1;33m(\u001b[0m\u001b[1;34m'/'\u001b[0m\u001b[1;33m)\u001b[0m\u001b[1;33m[\u001b[0m\u001b[1;33m-\u001b[0m\u001b[1;36m1\u001b[0m\u001b[1;33m]\u001b[0m \u001b[1;33m,\u001b[0m \u001b[1;34m'w'\u001b[0m\u001b[1;33m)\u001b[0m\u001b[1;33m\u001b[0m\u001b[0m\n\u001b[0m\u001b[0;32m    232\u001b[0m     \u001b[0mcui_to_description\u001b[0m \u001b[1;33m=\u001b[0m \u001b[0mget_CUI_to_description\u001b[0m\u001b[1;33m(\u001b[0m\u001b[1;33m)\u001b[0m\u001b[1;33m\u001b[0m\u001b[0m\n\u001b[0;32m    233\u001b[0m     \u001b[1;32mwith\u001b[0m \u001b[0mopen\u001b[0m\u001b[1;33m(\u001b[0m\u001b[0mconcept_filename\u001b[0m\u001b[1;33m,\u001b[0m \u001b[1;34m'r'\u001b[0m\u001b[1;33m)\u001b[0m \u001b[1;32mas\u001b[0m \u001b[0minfile\u001b[0m\u001b[1;33m:\u001b[0m\u001b[1;33m\u001b[0m\u001b[0m\n",
      "\u001b[1;31mIOError\u001b[0m: [Errno 2] No such file or directory: 'drug_disease_..\\\\data\\\\may_treat_cui.txt'"
     ]
    }
   ],
   "source": [
    "# experiment for table 4 (left column; rows 1, 3, 6)\n",
    "concept_file = 'may_treat_cui.txt'\n",
    "analyze_semantic_files(filenames, num_of_nn, concept_file, num_of_cores)"
   ]
  },
  {
   "cell_type": "code",
   "execution_count": null,
   "metadata": {},
   "outputs": [],
   "source": [
    "# experiment for table 4 (right column; rows 1, 3, 6)\n",
    "concept_file = data_folder / 'may_prevent_cui.txt'\n",
    "analyze_semantic_files(filenames, num_of_nn, concept_file, num_of_cores)"
   ]
  },
  {
   "cell_type": "code",
   "execution_count": null,
   "metadata": {},
   "outputs": [],
   "source": [
    "filenames_file = 'orig_files_all.txt'\n",
    "filenames = []\n",
    "with open(filenames_file, 'r') as infile:\n",
    "    data= infile.readlines()\n",
    "    for row in data:\n",
    "        filenames.append(row.strip().split(','))\n",
    "print filenames"
   ]
  },
  {
   "cell_type": "code",
   "execution_count": null,
   "metadata": {},
   "outputs": [],
   "source": [
    "# experiment for table 5 (rows 1, 3, 6)\n",
    "filename_to_print, finegrain_ndcgs = get_css_analysis(filenames, num_of_nn, 'f')\n",
    "filename_to_print, coarsegrain_ndcgs = get_css_analysis(filenames, num_of_nn, 'c')\n",
    "for name, finegrain, coarsegrain in zip(filename_to_print, finegrain_ndcgs, coarsegrain_ndcgs):\n",
    "    print '%s & %.2f & %.2f \\\\\\\\' %(name.split('/')[-1], finegrain*100, coarsegrain*100) "
   ]
  },
  {
   "cell_type": "code",
   "execution_count": null,
   "metadata": {},
   "outputs": [],
   "source": []
  },
  {
   "cell_type": "code",
   "execution_count": null,
   "metadata": {},
   "outputs": [],
   "source": []
  }
 ],
 "metadata": {
  "kernelspec": {
   "display_name": "Python 2",
   "language": "python",
   "name": "python2"
  },
  "language_info": {
   "codemirror_mode": {
    "name": "ipython",
    "version": 2
   },
   "file_extension": ".py",
   "mimetype": "text/x-python",
   "name": "python",
   "nbconvert_exporter": "python",
   "pygments_lexer": "ipython2",
   "version": "2.7.15"
  }
 },
 "nbformat": 4,
 "nbformat_minor": 1
}
